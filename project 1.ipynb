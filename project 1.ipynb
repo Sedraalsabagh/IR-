{
 "cells": [
  {
   "cell_type": "markdown",
   "metadata": {},
   "source": [
    "project 1"
   ]
  },
  {
   "cell_type": "markdown",
   "metadata": {},
   "source": [
    "ﺿ صﻮﺼﻨﻟا ﺔﺠﻟﺎﻌﻣ نﻮﻜﻣ ﻢﻗ ، ءﺎﺸﻧﺎﺑ ﻦﻣ ﻞﻛ ﻞﺟا ﻦﻣ ﻊﺑﺎﺗ ﺔﻴﻟﺎﺘﻟا تﺎﻴﻠﻤﻌﻟا \n",
    " ﻊﺑﺎﺘﻟا ﻦﻤﺿ ﻢﻬﺋﺎﻋﺪﺘﺳا ﻊﻣ pro"
   ]
  },
  {
   "cell_type": "code",
   "execution_count": 1,
   "metadata": {},
   "outputs": [],
   "source": [
    "class Preprocessor():\n",
    "    @staticmethod\n",
    "    def process(doc_query): #كل فانكشن لازم حددو انو ستاتك \n",
    "       res = Preprocessor.tokenizeDocument(doc_query)\n",
    "       return res\n",
    "\n",
    "    @staticmethod\n",
    "    def tokenizeDocument(sentence):\n",
    "        return sentence.split(' ')"
   ]
  }
 ],
 "metadata": {
  "kernelspec": {
   "display_name": "Python 3",
   "language": "python",
   "name": "python3"
  },
  "language_info": {
   "codemirror_mode": {
    "name": "ipython",
    "version": 3
   },
   "file_extension": ".py",
   "mimetype": "text/x-python",
   "name": "python",
   "nbconvert_exporter": "python",
   "pygments_lexer": "ipython3",
   "version": "3.12.4"
  }
 },
 "nbformat": 4,
 "nbformat_minor": 2
}
