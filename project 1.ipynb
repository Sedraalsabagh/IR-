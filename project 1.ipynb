{
 "cells": [
  {
   "cell_type": "markdown",
   "metadata": {},
   "source": [
    "project 1"
   ]
  },
  {
   "cell_type": "markdown",
   "metadata": {},
   "source": []
  },
  {
   "cell_type": "code",
   "execution_count": 1,
   "metadata": {},
   "outputs": [],
   "source": [
    "class Preprocessor():\n",
    "    @staticmethod\n",
    "    def process(doc_query):\n",
    "       res = Preprocessor.tokenizeDocument(doc_query)\n",
    "       return res\n",
    "\n",
    "    @staticmethod\n",
    "    def tokenizeDocument(sentence):\n",
    "        return sentence.split(' ')"
   ]
  },
  {
   "cell_type": "code",
   "execution_count": 1,
   "metadata": {},
   "outputs": [],
   "source": [
    "class IndexModel:\n",
    "\n",
    "    def __init__(self, documents_df):\n",
    "        self._index = {}\n",
    "        termdoc = documents_df.to_dict('list')\n",
    "        #print(termdoc)  جربي تطبيعيها لانو قالت الكي بعدد الاعمدة اي ما فهمتا\n",
    "        uniqterm = set()\n",
    "        for terms in termdoc['ntext']:\n",
    "            uniqterm.update(terms)\n",
    "        for term in uniqterm:\n",
    "            vector=[]\n",
    "            for i, c in enumerate(termdoc['id']):\n",
    "                if term in termdoc['ntext'][i]: #term doc هي الديشكنري يلي خزنتها \n",
    "                    vector += [1]\n",
    "                else:\n",
    "                    vector += [0]\n",
    "            self._index[term]=vector\n",
    "\n",
    "    def term_incidence_vector(self, term):\n",
    "        try:\n",
    "            return self._index[term]\n",
    "        except:\n",
    "            return [0 for _ in range(len(list(self._index.values())[0]))]\n",
    "        "
   ]
  },
  {
   "cell_type": "code",
   "execution_count": 4,
   "metadata": {},
   "outputs": [
    {
     "data": {
      "text/html": [
       "<div>\n",
       "<style scoped>\n",
       "    .dataframe tbody tr th:only-of-type {\n",
       "        vertical-align: middle;\n",
       "    }\n",
       "\n",
       "    .dataframe tbody tr th {\n",
       "        vertical-align: top;\n",
       "    }\n",
       "\n",
       "    .dataframe thead th {\n",
       "        text-align: right;\n",
       "    }\n",
       "</style>\n",
       "<table border=\"1\" class=\"dataframe\">\n",
       "  <thead>\n",
       "    <tr style=\"text-align: right;\">\n",
       "      <th></th>\n",
       "      <th>id</th>\n",
       "      <th>ntext</th>\n",
       "    </tr>\n",
       "  </thead>\n",
       "  <tbody>\n",
       "    <tr>\n",
       "      <th>0</th>\n",
       "      <td>1</td>\n",
       "      <td>[hello, world]</td>\n",
       "    </tr>\n",
       "    <tr>\n",
       "      <th>1</th>\n",
       "      <td>2</td>\n",
       "      <td>[hello, openai]</td>\n",
       "    </tr>\n",
       "    <tr>\n",
       "      <th>2</th>\n",
       "      <td>3</td>\n",
       "      <td>[chatgpt, world]</td>\n",
       "    </tr>\n",
       "  </tbody>\n",
       "</table>\n",
       "</div>"
      ],
      "text/plain": [
       "   id             ntext\n",
       "0   1    [hello, world]\n",
       "1   2   [hello, openai]\n",
       "2   3  [chatgpt, world]"
      ]
     },
     "execution_count": 4,
     "metadata": {},
     "output_type": "execute_result"
    }
   ],
   "source": [
    "import pandas as pd\n",
    "\n",
    "# إنشاء DataFrame\n",
    "data = {\n",
    "    'id': [1, 2, 3],\n",
    "    'ntext': [\n",
    "        ['hello', 'world'],\n",
    "        ['hello', 'openai'],\n",
    "        ['chatgpt', 'world']\n",
    "    ]\n",
    "}\n",
    "documents_df = pd.DataFrame(data)\n",
    "documents_df\n",
    "\n",
    "# إنشاء كائن من الفئة IndexModel\n",
    "# index_model = IndexModel(documents_df)\n",
    "\n",
    "# # الحصول على متجه الوقوع لمصطلح معين\n",
    "# print(index_model.term_incidence_vector('hello'))  # Output: [1, 1, 0]\n",
    "# print(index_model.term_incidence_vector('world'))  # Output: [1, 0, 1]\n",
    "# print(index_model.term_incidence_vector('openai')) # Output: [0, 1, 0]\n"
   ]
  }
 ],
 "metadata": {
  "kernelspec": {
   "display_name": "Python 3",
   "language": "python",
   "name": "python3"
  },
  "language_info": {
   "codemirror_mode": {
    "name": "ipython",
    "version": 3
   },
   "file_extension": ".py",
   "mimetype": "text/x-python",
   "name": "python",
   "nbconvert_exporter": "python",
   "pygments_lexer": "ipython3",
   "version": "3.12.4"
  }
 },
 "nbformat": 4,
 "nbformat_minor": 2
}
